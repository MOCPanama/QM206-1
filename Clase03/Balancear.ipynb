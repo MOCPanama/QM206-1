{
 "cells": [
  {
   "cell_type": "code",
   "execution_count": 86,
   "metadata": {},
   "outputs": [],
   "source": [
    "import numpy as np"
   ]
  },
  {
   "cell_type": "code",
   "execution_count": 296,
   "metadata": {},
   "outputs": [
    {
     "name": "stdout",
     "output_type": "stream",
     "text": [
      "FeSO4+KMnO4+H2SO4=Fe2S3O12+K2SO4+MnSO4+H2O\n"
     ]
    },
    {
     "data": {
      "text/plain": [
       "'10.0*FeSO4+2.0*KMnO4+8.0*H2SO4=5.0*Fe2S3O12+1.0*K2SO4+2.0*MnSO4+8.0*H2O'"
      ]
     },
     "execution_count": 296,
     "metadata": {},
     "output_type": "execute_result"
    }
   ],
   "source": [
    "Eq=\"FeSO4+KMnO4+H2SO4=Fe2S3O12+K2SO4+MnSO4+H2O\"\n",
    "##Eq=\"C12H22O11+O2=CO2+H2O\"\n",
    "##Eq=\"CH3CH2OH+O2=CO2+H2O\"\n",
    "##Eq=\"Fe+Cl2=FeCl3\"\n",
    "##Eq=\"CH4+O2=CO2+CO+H2O\"\n",
    "\n",
    "f=Eq.split(\"=\")          ##Separa reactivos y productos\n",
    "n1=len(f[0].split(\"+\"))  ##Determina la cantidad de reactivos\n",
    "n2=len(f[1].split(\"+\"))  ##Determina la cantidad de producto\n",
    "\n",
    "n=n1+n2                  ##Total de compuestos \n",
    "\n",
    "mat=np.zeros((n-1,n))   \n",
    "\n",
    "\n",
    "mult=[1]\n",
    "simb=\"\"\n",
    "elem=[]\n",
    "num=\"\"\n",
    "\n",
    "nx=0\n",
    "for x in reversed(Eq):\n",
    "    \n",
    "    if x>=\"a\" and x<=\"z\":\n",
    "        simb=x\n",
    "    if x>=\"A\" and x<=\"Z\":\n",
    "        simb=x+simb\n",
    "        \n",
    "        if simb not in elem:\n",
    "            elem.append(simb)\n",
    "            \n",
    "        ind=elem.index(simb)\n",
    "        if len(num)==0:\n",
    "            num=1\n",
    "        \n",
    "        mat[ind,nx]+=float(num)\n",
    "        simb=\"\"\n",
    "        num=\"\"\n",
    "        \n",
    " \n",
    "       \n",
    "    if x==\"+\" or x==\"=\":\n",
    "        nx+=1\n",
    " \n",
    "    if x>=\"0\" and x<=\"9\":\n",
    "        num=x+num\n",
    "\n",
    "print(Eq)\n",
    "\n",
    "\n",
    "b=np.array(mat[:,-1]).copy()\n",
    "x=np.array(mat[:,0:-1]).copy()\n",
    "c=np.linalg.lstsq(x,b,rcond=None)[0]\n",
    "\n",
    "a=np.array(c,dtype=np.float32)\n",
    "\n",
    "\n",
    "op=False\n",
    "m=0\n",
    "while op==False:\n",
    "    m+=1\n",
    "    \n",
    "    num=a*m\n",
    "    v=num[0:]\n",
    "    diff=sum(np.abs(v)-np.floor(abs(v)))\n",
    "    \n",
    "    if diff<0.0001:\n",
    "        op=True\n",
    "\n",
    "a=a*m\n",
    "\n",
    "## Busca una fila de b diferente de cero\n",
    "ind=0\n",
    "i=0\n",
    "for v in b:\n",
    "    if v!=0:\n",
    "        ind=i\n",
    "    i+=1\n",
    "    \n",
    "## Calcula el coeficiente de la última columna con este índice\n",
    "\n",
    "coef=float(sum(x[ind]*a)/b[ind])\n",
    "\n",
    "\n",
    "\n",
    "cad=str(np.round(coef))+\"*\"\n",
    "n=len(a)-1\n",
    "\n",
    "for x in Eq:\n",
    "    cad=cad+x\n",
    "    if x==\"+\" or x==\"=\":\n",
    "        cad=cad+str(np.round(abs(a[n])))+\"*\"\n",
    "        n=n-1\n",
    "    \n",
    "cad"
   ]
  },
  {
   "cell_type": "code",
   "execution_count": null,
   "metadata": {},
   "outputs": [],
   "source": []
  },
  {
   "cell_type": "code",
   "execution_count": null,
   "metadata": {},
   "outputs": [],
   "source": []
  }
 ],
 "metadata": {
  "kernelspec": {
   "display_name": "Python 3",
   "language": "python",
   "name": "python3"
  },
  "language_info": {
   "codemirror_mode": {
    "name": "ipython",
    "version": 3
   },
   "file_extension": ".py",
   "mimetype": "text/x-python",
   "name": "python",
   "nbconvert_exporter": "python",
   "pygments_lexer": "ipython3",
   "version": "3.6.5"
  }
 },
 "nbformat": 4,
 "nbformat_minor": 2
}
