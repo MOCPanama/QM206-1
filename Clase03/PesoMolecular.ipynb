{
 "cells": [
  {
   "cell_type": "code",
   "execution_count": 1,
   "metadata": {},
   "outputs": [
    {
     "data": {
      "text/plain": [
       "12.01"
      ]
     },
     "execution_count": 1,
     "metadata": {},
     "output_type": "execute_result"
    }
   ],
   "source": [
    "pesos={\"H\":1.0,\"C\":12.01,\"N\":14.0,\"O\":16.0,\"S\":32.0}\n",
    "pesos[\"C\"]"
   ]
  },
  {
   "cell_type": "code",
   "execution_count": 2,
   "metadata": {},
   "outputs": [
    {
     "name": "stdout",
     "output_type": "stream",
     "text": [
      "12.01+1.0*3+12.01+1.0*2+12.01+1.0*2+12.01+1.0*2+12.01+1.0*2+16.0+1.0 \n",
      "PM=88.050000\n"
     ]
    }
   ],
   "source": [
    "formula=\"CH3CH2CH2CH2CH2OH\"\n",
    "formula+=\" \"\n",
    "elem=[]\n",
    "f=\"\"\n",
    "for i in range(len(formula)):\n",
    "    \n",
    "    m1=False\n",
    "    f=f+formula[i]\n",
    "    if(formula[i]>=\"A\" and formula[i]<=\"Z\"):\n",
    "        elem.append(formula[i])\n",
    "        m1=True\n",
    "    if(formula[i]>=\"a\" and formula[i]<=\"z\"):\n",
    "        s=elem.pop()\n",
    "        s=s+formula[i]\n",
    "        elem.append(s)\n",
    "        m1=True\n",
    "    if m1==True and (formula[i+1]>=\"0\" and formula[i+1]<=\"9\"):\n",
    "        f=f+\"*\"\n",
    "    if m1==True and (formula[i+1]>=\"A\" and formula[i+1]<=\"Z\"):\n",
    "        f=f+\"+\"\n",
    "    if (formula[i]>=\"0\" and formula[i]<=\"9\") and (formula[i+1]>=\"A\" and formula[i+1]<=\"Z\"):\n",
    "        f=f+\"+\"\n",
    "\n",
    "for x in elem:\n",
    "    f=f.replace(x,str(pesos[x]))\n",
    "print(f)\n",
    "print(\"PM=%f\"%eval(f))"
   ]
  },
  {
   "cell_type": "code",
   "execution_count": null,
   "metadata": {},
   "outputs": [],
   "source": [
    "formula=\"Hb(Sb2O4)3\"\n",
    "\n",
    "elem=[]\n",
    "f=\"\"\n",
    "op=\"\"\n",
    "for i in range(len(formula)):\n",
    "    \n",
    "    print(op,formula[i])\n",
    "   \n",
    "    if(formula[i]>=\"A\" and formula[i]<=\"Z\"):\n",
    "        elem.append(formula[i])\n",
    "       \n",
    "    if(formula[i]>=\"a\" and formula[i]<=\"z\"):\n",
    "        s=elem.pop()\n",
    "        s=s+formula[i]\n",
    "        elem.append(s)\n",
    "       \n",
    "    if (formula[i]>=\"0\" and formula[i]<=\"9\") and op==\"X\":\n",
    "        f=f+\"*\"\n",
    "    if (formula[i]>=\"0\" and formula[i]<=\"9\") and op==\")\":\n",
    "        f=f+\"*\"    \n",
    "    if (formula[i]>=\"A\" and formula[i]<=\"Z\") and op==\"X\":\n",
    "        f=f+\"+\"\n",
    "    if (formula[i]>=\"A\" and formula[i]<=\"Z\") and op==\")\":\n",
    "        f=f+\"+\"\n",
    "    if formula[i]==\"(\":\n",
    "        f=f+\"+\"\n",
    "\n",
    "    if (formula[i]>=\"A\" and formula[i]<\"Z\") and op==\"N\":\n",
    "        f=f+\"+\"\n",
    "\n",
    "    if (formula[i]>=\"A\" and formula[i]<=\"Z\") or (formula[i]>=\"a\" and formula[i]<=\"z\"):\n",
    "        op=\"X\"\n",
    "    if formula[i]>=\"0\" and formula[i]<=\"9\":\n",
    "        op=\"N\"\n",
    "    if formula[i]==\"(\" or formula[i]==\")\":\n",
    "        op=formula[i]\n",
    "    f+=formula[i]\n",
    "print(f)"
   ]
  }
 ],
 "metadata": {
  "kernelspec": {
   "display_name": "Python 3",
   "language": "python",
   "name": "python3"
  },
  "language_info": {
   "codemirror_mode": {
    "name": "ipython",
    "version": 3
   },
   "file_extension": ".py",
   "mimetype": "text/x-python",
   "name": "python",
   "nbconvert_exporter": "python",
   "pygments_lexer": "ipython3",
   "version": "3.6.5"
  }
 },
 "nbformat": 4,
 "nbformat_minor": 2
}
