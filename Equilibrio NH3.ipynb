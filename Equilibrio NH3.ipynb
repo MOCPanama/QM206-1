{
 "cells": [
  {
   "cell_type": "markdown",
   "metadata": {},
   "source": [
    "## Equilibrio de NH3\n",
    "$NH_{3(gas)} == \\frac{3}{2} H_{2(gas)} + \\frac{1}{2} N_{2(gas)}$<br>\n"
   ]
  },
  {
   "cell_type": "code",
   "execution_count": 68,
   "metadata": {
    "collapsed": true
   },
   "outputs": [],
   "source": [
    "import numpy as np\n",
    "import matplotlib.pyplot as plt\n"
   ]
  },
  {
   "cell_type": "code",
   "execution_count": 69,
   "metadata": {
    "collapsed": true
   },
   "outputs": [],
   "source": [
    "xi=np.arange(0.001,1.0,0.001)\n",
    "T=700\n",
    "R=8.314\n",
    "p=200"
   ]
  },
  {
   "cell_type": "code",
   "execution_count": 70,
   "metadata": {
    "collapsed": false
   },
   "outputs": [],
   "source": [
    "## Valores a 298 K\n",
    "#uo_NH3=-45.898*1000-T*192.774\n",
    "#uo_H2=-T*130.680\n",
    "#uo_N2=-T*191.609\n",
    "\n",
    "## Valores a 700 K\n",
    "uo_NH3=-52.618*1000-T*227.829\n",
    "uo_H2=-T*155.606\n",
    "uo_N2=-T*216.866\n",
    "\n",
    "nt=2+2*xi\n",
    "xNH3=(2-2*xi)/nt\n",
    "xH2=(3*xi)/nt\n",
    "xN2=xi/nt\n"
   ]
  },
  {
   "cell_type": "code",
   "execution_count": 71,
   "metadata": {
    "collapsed": false
   },
   "outputs": [],
   "source": [
    "uNH3=uo_NH3+R*T*np.log(xNH3)+R*T*np.log(p)\n",
    "uH2=uo_H2+R*T*np.log(xH2)+R*T*np.log(p)\n",
    "uN2=uo_N2+R*T*np.log(xN2)+R*T*np.log(p)"
   ]
  },
  {
   "cell_type": "code",
   "execution_count": 72,
   "metadata": {
    "collapsed": false
   },
   "outputs": [
    {
     "data": {
      "image/png": "[encoded data removed]",
      "text/plain": [
       "<matplotlib.figure.Figure at 0x866eba8>"
      ]
     },
     "metadata": {},
     "output_type": "display_data"
    }
   ],
   "source": [
    "y=2*uNH3-3*uH2-uN2\n",
    "plt.plot(xi,y*y)\n",
    "plt.show()"
   ]
  },
  {
   "cell_type": "code",
   "execution_count": 73,
   "metadata": {
    "collapsed": false
   },
   "outputs": [
    {
     "name": "stdout",
     "output_type": "stream",
     "text": [
      "[ 0.54]\n"
     ]
    }
   ],
   "source": [
    "yy=y*y\n",
    "minimo=np.min(yy)\n",
    "i=np.where(minimo==yy)\n",
    "xeq=xi[i]\n",
    "print(xeq)"
   ]
  },
  {
   "cell_type": "markdown",
   "metadata": {},
   "source": [
    "## Cálculo de la constante de equilibrio\n",
    "\n",
    "Debemos tener en cuenta que la expresión de la constante de equilibrio y por lo tanto, su valor numérico dependen de los coeficientes de balance de la reacción. Es por ello que cuando  expresamos el valor de dicha constante debemos también definir o dar a conocer la ecuación balanceada del equilibrio correspondiente:<br>\n",
    "Para que nuestro resultado corresponda al de la tabla del JANAF, se requiere utilizar la ecuación balanceada siguiente:<br>\n",
    "\n",
    "$NH_{3(gas)} == \\frac{3}{2} H_{2(gas)} + \\frac{1}{2} N_{2(gas)}$<br>\n",
    "\n",
    "$K_p=\\frac{pH_2^{3/2}*pN_2^{1/2}}{pNH_3}$"
   ]
  },
  {
   "cell_type": "code",
   "execution_count": 74,
   "metadata": {
    "collapsed": false
   },
   "outputs": [
    {
     "name": "stdout",
     "output_type": "stream",
     "text": [
      "Kp=106.945091\n"
     ]
    }
   ],
   "source": [
    "\n",
    "nt=2+2*xeq\n",
    "xNH3=(2-2*xeq)/nt\n",
    "xH2=(3*xeq)/nt\n",
    "xN2=xeq/nt\n",
    "\n",
    "pNH3=xNH3*p\n",
    "pH2=xH2*p\n",
    "pN2=xN2*p\n",
    "Kp=pH2**(3/2)*pN2**(1/2)/pNH3        ##Ver la expresión en la explicación arriba\n",
    "print(\"Kp=%f\"%Kp)"
   ]
  },
  {
   "cell_type": "markdown",
   "metadata": {},
   "source": [
    "Utilizando la formula: <br><br>\n",
    "$\\Delta G=-RT*\\ln(Kp)$<br><br>\n",
    "por lo tanto:<br>\n",
    "<br>\n",
    "$ K_p=e^{-\\frac{\\Delta G}{RT}}$\n",
    "<br>\n",
    "<br>\n",
    "De la tabla de JANAF obtenemos el valor $\\Delta G=27190 J/K-mol$, con este valor calculamos la Kp como sigue:"
   ]
  },
  {
   "cell_type": "code",
   "execution_count": 75,
   "metadata": {
    "collapsed": false
   },
   "outputs": [
    {
     "name": "stdout",
     "output_type": "stream",
     "text": [
      "Kp=106.909412\n"
     ]
    }
   ],
   "source": [
    "Kp_tabla=np.exp(27190/8.314/700)     #En esta expresión se cambia el signo ya que el delta G corresponde a la la reacción inversa H2 + N2 == NH3\n",
    "print(\"Kp=%f\"%Kp_tabla)"
   ]
  },
  {
   "cell_type": "code",
   "execution_count": null,
   "metadata": {
    "collapsed": true
   },
   "outputs": [],
   "source": []
  }
 ],
 "metadata": {
  "kernelspec": {
   "display_name": "Python 3",
   "language": "python",
   "name": "python3"
  },
  "language_info": {
   "codemirror_mode": {
    "name": "ipython",
    "version": 3
   },
   "file_extension": ".py",
   "mimetype": "text/x-python",
   "name": "python",
   "nbconvert_exporter": "python",
   "pygments_lexer": "ipython3",
   "version": "3.6.0"
  }
 },
 "nbformat": 4,
 "nbformat_minor": 2
}
