{
 "cells": [
  {
   "cell_type": "markdown",
   "metadata": {},
   "source": [
    "## Cálculo de la constante de equilibrio de la reacción"
   ]
  },
  {
   "cell_type": "markdown",
   "metadata": {},
   "source": [
    "$N_2O_4 <--> 2 NO_2$                           a 298 K"
   ]
  },
  {
   "cell_type": "markdown",
   "metadata": {},
   "source": [
    "Para el desarrollo de este tutorial hemos escogido como ejemplo un equilibrio químico muy simple, el de la descomposición del tetróxido de nitrógeno en dióxido de nitrógeno a 298 K y una presión de 1.0 bar.\n",
    "Para hacerlo lo más simple posible trataremos el sistema como una mezcla de gases ideales, evitando así, el uso de las fugacidades de tal forma que nos concentremos en el concepto fundamental del potencial químico para el cálculo de la constante de equilibrio."
   ]
  },
  {
   "cell_type": "code",
   "execution_count": 2,
   "metadata": {
    "collapsed": true
   },
   "outputs": [],
   "source": [
    "import numpy as np\n",
    "import matplotlib.pyplot as plt"
   ]
  },
  {
   "cell_type": "markdown",
   "metadata": {},
   "source": [
    "Iniciamos nuestro programa importando el módulo numpy para realizar los cálculos numéricos y matplotlib.pyplot para las gráficas"
   ]
  },
  {
   "cell_type": "markdown",
   "metadata": {},
   "source": [
    "Enlace para acceder a las tablas termodinámicas del NIST\n",
    "\n",
    "https://janaf.nist.gov\n",
    "https://webbook.nist.gov/chemistry/\n"
   ]
  },
  {
   "cell_type": "code",
   "execution_count": 3,
   "metadata": {
    "collapsed": true
   },
   "outputs": [],
   "source": [
    "##Estos valores se obtienen del sitio web del janaf.NIST\n",
    "##Entalpía y entropía estandar a 298.15 K y 1 bar\n",
    "deltaH_NO2=33.095   #kJ/mol\n",
    "deltaS_NO2=240.034  #J/mol\n",
    "deltaH_N2O4=9.079   #kJ/mol\n",
    "deltaS_N2O4=304.376 #J/mol\n",
    "\n",
    "T=298.15     #K\n",
    "\n",
    "R=8.314 #J/K-mol"
   ]
  },
  {
   "cell_type": "markdown",
   "metadata": {},
   "source": [
    "Para el cálculo de la energía libre necesitamos los valores de la entalpía y entropía estándar del tetróxido de nitrógeno y del dióxido de nitrogeno. Para acceder a estos valores, utilizaremos las tablas de propiedades termodinámicas del Webbook del NIST o del sitio web janaf.nist.gov. utilizando los enlaces que se muestran aqui.\n"
   ]
  },
  {
   "cell_type": "markdown",
   "metadata": {},
   "source": [
    "## Calculamos la energía libre estándar"
   ]
  },
  {
   "cell_type": "markdown",
   "metadata": {},
   "source": [
    "$\\Delta G^o=\\Delta H^o - T* \\Delta S^o $"
   ]
  },
  {
   "cell_type": "markdown",
   "metadata": {},
   "source": [
    "Para cada gas calculamos la energía libre de Gibbs"
   ]
  },
  {
   "cell_type": "code",
   "execution_count": 4,
   "metadata": {
    "collapsed": false
   },
   "outputs": [
    {
     "name": "stdout",
     "output_type": "stream",
     "text": [
      "-38471.13709999999 -81670.70439999999\n"
     ]
    }
   ],
   "source": [
    "deltaG_NO2=deltaH_NO2*1000-T*deltaS_NO2\n",
    "deltaG_N2O4=deltaH_N2O4*1000-T*deltaS_N2O4\n",
    "print(deltaG_NO2,deltaG_N2O4)"
   ]
  },
  {
   "cell_type": "markdown",
   "metadata": {},
   "source": [
    "Para un compuesto puro, a una tempeartura de 298 K y una presión de 1.0 bar,  el potencial químico estándar $\\mu_B^o$ es igual a la energía libre estándar $G_{298}^o$, por lo tanto tenemos que"
   ]
  },
  {
   "cell_type": "code",
   "execution_count": 5,
   "metadata": {
    "collapsed": true
   },
   "outputs": [],
   "source": [
    "uo_N2O4_est=deltaG_N2O4\n",
    "uo_NO2_est=deltaG_NO2"
   ]
  },
  {
   "cell_type": "markdown",
   "metadata": {},
   "source": [
    "### Potencial químico en función de T,p y $x_B$"
   ]
  },
  {
   "cell_type": "markdown",
   "metadata": {},
   "source": [
    "$\\mu_B(T,p,x_B)=\\mu_B^o(T)+R*T*\\ln(x_B)+R*T*\\ln(p/p_o)$<br><br>\n",
    "en condiciones estándares $p=1.0$ bar, por lo que el último termino se hace cero"
   ]
  },
  {
   "cell_type": "markdown",
   "metadata": {},
   "source": [
    "Si iniciamos con $n_{N_2O_4}=1.0$ y $n_{NO_2}=0$"
   ]
  },
  {
   "cell_type": "markdown",
   "metadata": {},
   "source": [
    "Dado el avance de la reacción $\\xi$, las fracciones molares correspondientes son:<br>\n",
    "<br>\n",
    "$n_{N_2O_4}=1-\\xi$ <br>\n",
    "$n_{NO_2}=2*\\xi$<br>\n",
    "$n_T=1+\\xi$<br>\n",
    "<br>\n",
    "por tanto:<br>\n",
    "<br>\n",
    "$x_{N_2O_4}=(1-\\xi)/(1+\\xi)$ <br>\n",
    "$x_{NO_2}=2*\\xi/(1+\\xi)$<br>\n"
   ]
  },
  {
   "cell_type": "markdown",
   "metadata": {},
   "source": [
    "$\\mu_{N_2O_4}(T,p,\\xi)=\\mu_{N_2O_4}^o(T)+R*T*\\ln((1-\\xi)/(1+\\xi))$<br><br>\n",
    "$\\mu_{NO_2}(T,p,\\xi)=\\mu_{NO_2}^o(T)+R*T*\\ln((2*\\xi)/(1+\\xi))$"
   ]
  },
  {
   "cell_type": "markdown",
   "metadata": {},
   "source": [
    "En lo que sigue, utilizaremos en el programa la variable \"xi\" ya que en python no se permite el uso del simbolo ξ como variable. El cálculo de los potenciales estándares para cada gas se realiza como se  presenta a continuación"
   ]
  },
  {
   "cell_type": "code",
   "execution_count": 6,
   "metadata": {
    "collapsed": true
   },
   "outputs": [],
   "source": [
    "#xi=ξ en las siguientes fórmulas\n",
    "\n",
    "dxi=0.001\n",
    "xi=np.arange(dxi,1.0,dxi)\n",
    "u_N2O4=(uo_N2O4_est+R*T*np.log((1-xi)/(1+xi)))\n",
    "u_NO2=(uo_NO2_est+R*T*np.log(2*xi/(1+xi)))\n"
   ]
  },
  {
   "cell_type": "markdown",
   "metadata": {},
   "source": [
    "$G(T,p,\\xi)=\\sum n_B(\\xi)*\\mu_B(T,p,\\xi)$"
   ]
  },
  {
   "cell_type": "markdown",
   "metadata": {},
   "source": [
    "La energía libre en función de la temperatura, presión y composición se calcula como la suma del producto de el número de moles  de cada componente por su potencial a la misma temperatura, presión y composición."
   ]
  },
  {
   "cell_type": "code",
   "execution_count": 7,
   "metadata": {
    "collapsed": true
   },
   "outputs": [],
   "source": [
    "uT=(1-xi)*u_N2O4+2*xi*u_NO2"
   ]
  },
  {
   "cell_type": "markdown",
   "metadata": {},
   "source": [
    "Para un sistema en equilibrio químico, el potencial quimico alcanza un mínimo a un determinado valor de xi.\n",
    "En nuestro programa uT es un vector que representa los potenciales químicos en el rango de xi desde 0 hasta 1.0.\n",
    "con la función min de numpy buscamos el valor mínimo en este vector. luego utilizando la función where de numpy determinamos en índice correspondiente a este valor mínimo del potencial. Utilizando este mismo índice determinamos en valor de xi correspondiente."
   ]
  },
  {
   "cell_type": "code",
   "execution_count": 25,
   "metadata": {
    "collapsed": false
   },
   "outputs": [
    {
     "name": "stdout",
     "output_type": "stream",
     "text": [
      "[0.189]\n"
     ]
    },
    {
     "data": {
      "image/png": "[encoded data removed]",
      "text/plain": [
       "<Figure size 432x288 with 1 Axes>"
      ]
     },
     "metadata": {},
     "output_type": "display_data"
    }
   ],
   "source": [
    "mu_minimo=np.min(uT)       \n",
    "i=np.where(uT==mu_minimo)\n",
    "print(xi[i])\n",
    "\n",
    "plt.plot(xi,uT,color=\"black\")\n",
    "plt.text(xi[i],-81000,r'$\\xi_{eq}=$'+str(xi[i]),fontsize=14)\n",
    "plt.axvline(x=xi[i],color=\"green\",linestyle=\"-.\")\n",
    "plt.xlabel(r'$\\xi(mol)$')\n",
    "plt.ylabel(r'$(\\delta G/\\delta \\xi)_{T,p}$')\n",
    "plt.show()"
   ]
  },
  {
   "cell_type": "markdown",
   "metadata": {},
   "source": [
    "Un segundo método consiste en aplicar la ecuación de Gibbs-Duhem, de la cual resulta una expresión para la condición de equilibrio químico en la cual la suma de los coeficientes de balance nu sub B multiplicados por los potenciales químicos de cada una de las especies debe ser cero.\n",
    "En nuestro ejemplo nu del NO2 corresponde a 2 y para el N2O4 es igual a 1\n",
    "Para este sistema en particular de dos componentes en el equilibrio, el potencias del N2O4 debe ser igual a dos veces el potencial químico del NO2 por lo que se puede observar en la gráfica de estos dos potenciales que se cruzan en la composición correspondiente de equilibrio."
   ]
  },
  {
   "cell_type": "markdown",
   "metadata": {},
   "source": [
    "aplicando la ecuación de Gibbs-Duhem, obtenemos:<br>\n",
    "<br>\n",
    "$({\\delta G}/{\\delta \\xi})_{T,p}=\\sum_B \\nu_B*\\mu_B(T,p,\\xi)$<br><br>\n",
    "la condición de equilibrio químico es:<br><br>\n",
    "$\\sum_B \\nu_B*\\mu_B(T,p,\\xi)=0$"
   ]
  },
  {
   "cell_type": "code",
   "execution_count": 26,
   "metadata": {
    "collapsed": false
   },
   "outputs": [
    {
     "data": {
      "image/png": "[encoded data removed]",
      "text/plain": [
       "<Figure size 432x288 with 1 Axes>"
      ]
     },
     "metadata": {},
     "output_type": "display_data"
    }
   ],
   "source": [
    "#Método 2\n",
    "#El punto donde se cruzan las líneas de los dos potenciales NO2 y N2O4 corresponde al ξeq\n",
    "\n",
    "plt.plot(xi,u_N2O4,color=\"blue\")\n",
    "plt.plot(xi,2*u_NO2,color=\"orange\")\n",
    "plt.annotate(r\"$\\xi_{eq}=$\"+str(xi[i]), xy=(xi[i],u_N2O4[i]), xytext=(0.3,-95000),arrowprops={'arrowstyle': '->'}, va='center')\n",
    "plt.xlabel(r'$\\xi(mol)$')\n",
    "plt.axvline(x=xi[i],color=\"green\",linestyle=\"-.\")\n",
    "plt.show()"
   ]
  },
  {
   "cell_type": "markdown",
   "metadata": {},
   "source": [
    "aplicando la ecuación de Gibbs-Duhem, obtenemos:<br>\n",
    "<br>\n",
    "$({\\delta G}/{\\delta \\xi})_{T,p}=\\sum_B \\nu_B*\\mu_B(T,p,\\xi)$<br><br>\n",
    "la condición de equilibrio químico es:<br><br>\n",
    "$\\sum_B \\nu_B*\\mu_B(T,p,\\xi)=0$"
   ]
  },
  {
   "cell_type": "markdown",
   "metadata": {},
   "source": [
    "Utilizando esta ecuación en forma más general, para sistemas de dos o mas componentes, calculamos esta sumatoria teniendo el cuidado de que la nu de los productos se consideran negativas y la de los reactivos positiva. Al elevar al cuadrado esta sumatoria al cuadrado obtenemos una función en xi que tiene un mínimo en el valor correspondiente a la composición de equilibrio. El mínimo lo calculamos de la misma manera como se realizó en el método anterior."
   ]
  },
  {
   "cell_type": "code",
   "execution_count": 30,
   "metadata": {
    "collapsed": false
   },
   "outputs": [
    {
     "name": "stdout",
     "output_type": "stream",
     "text": [
      "xi(equilibrio)=0.189 mol\n"
     ]
    },
    {
     "data": {
      "image/png": "[encoded data removed]",
      "text/plain": [
       "<Figure size 432x288 with 1 Axes>"
      ]
     },
     "metadata": {},
     "output_type": "display_data"
    }
   ],
   "source": [
    "yy=(u_N2O4-2*u_NO2)**2\n",
    "minimo=np.min(yy)\n",
    "i=np.where(yy==minimo)\n",
    "print(\"xi(equilibrio)=\"+str(xi[i][0])+\" mol\")\n",
    "\n",
    "plt.plot(xi,yy)\n",
    "plt.axvline(x=xi[i],color=\"green\",linestyle=\"-.\")\n",
    "plt.annotate(r\"$\\xi_{eq}=$\"+str(xi[i]), xy=(xi[i],yy[i]), xytext=(0.4,3E8),arrowprops={'arrowstyle': '->'}, va='center')\n",
    "plt.show()"
   ]
  },
  {
   "cell_type": "code",
   "execution_count": null,
   "metadata": {
    "collapsed": true
   },
   "outputs": [],
   "source": []
  }
 ],
 "metadata": {
  "kernelspec": {
   "display_name": "Python 3",
   "language": "python",
   "name": "python3"
  },
  "language_info": {
   "codemirror_mode": {
    "name": "ipython",
    "version": 3
   },
   "file_extension": ".py",
   "mimetype": "text/x-python",
   "name": "python",
   "nbconvert_exporter": "python",
   "pygments_lexer": "ipython3",
   "version": "3.6.0"
  }
 },
 "nbformat": 4,
 "nbformat_minor": 2
}
