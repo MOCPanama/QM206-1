{
 "cells": [
  {
   "cell_type": "markdown",
   "metadata": {},
   "source": [
    "<center>\n",
    "    <h1>Examen Semestral de QM206</H1>\n",
    "    <h3>2018</h3>\n",
    "</center>\n",
    "NOMBRE: <hr>\n",
    "CEDULA: <hr>\n"
   ]
  },
  {
   "cell_type": "markdown",
   "metadata": {},
   "source": [
    "<ol>\n",
    "<li>Diseñe un programa que, genere cinco puntos en el plano (x,y), determine cuál de los cuatro últimos puntos es más cercano al primero. Un punto se representará con dos variables (x,y): la distancia entre dos puntos viene dada por:<br>\n",
    "<br>\n",
    "$d=\\sqrt{(x_1-x_2)^2+(y_1-y_2)^2}$\n",
    "    </li><br>\n",
    "<li>\n",
    "Implementa un programa que muestre en pantalla todos los números potencia de 2 entre $2^0$ y $2^{30}$ , ambos inclusive    \n",
    "    </li><br>\n",
    "<li>\n",
    "Diseña un programa que calcule la sumatoria $\\sum_n^m{i}$. Dado dos números enteros m y n con m>n.\n",
    "    </li><br>\n",
    "    \n",
    "<li>\n",
    "  Haz un programa que, dados tres valores a,b y c, muestre la función:<br>\n",
    "    <br>\n",
    " $f(x) =ax^2+bx+c$<br><br>\n",
    " en el intervalo $[z_1,z_2]$,donde $z_1$ y $z_2$ son valores proporcionados por el usuario. El programa  debe calcular el valor máximo y mínimo de\n",
    " $f(x)$ en el intervalo indicado.\n",
    "    </li>\n",
    " <li>\n",
    " En la dirección 'http://pgbcursos.1apps.com/prob1.asp' están archivoados una serie de datos <b>(x,y)</b> obtenidos en un experimento.\n",
    "    <ul>\n",
    "      <li>Utilice el módulo requests para acceder a estos datos\n",
    "        <li>Realice el proceso necesario para extraer los datos <b>(x,y)</b> de este experimento y convertirlo a un arreglo <b>numpy</b>\n",
    "      <li>Haga el gráfico de dispersión $y$ vs $x$\n",
    "        </ul>\n",
    "    </li>\n",
    "</ol>"
   ]
  },
  {
   "cell_type": "code",
   "execution_count": null,
   "metadata": {},
   "outputs": [],
   "source": []
  }
 ],
 "metadata": {
  "kernelspec": {
   "display_name": "Python 3",
   "language": "python",
   "name": "python3"
  },
  "language_info": {
   "codemirror_mode": {
    "name": "ipython",
    "version": 3
   },
   "file_extension": ".py",
   "mimetype": "text/x-python",
   "name": "python",
   "nbconvert_exporter": "python",
   "pygments_lexer": "ipython3",
   "version": "3.6.5"
  }
 },
 "nbformat": 4,
 "nbformat_minor": 2
}
