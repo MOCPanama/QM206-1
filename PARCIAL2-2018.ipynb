{
 "cells": [
  {
   "cell_type": "markdown",
   "metadata": {},
   "source": [
    "## Examen Parcial No. 2\n",
    "\n",
    "RESUELVA LOS SIGUIENTES PROBLEMAS"
   ]
  },
  {
   "cell_type": "markdown",
   "metadata": {},
   "source": [
    "<ol>\n",
    "<li> Para el $CH_{4(g)}$ calcule los coeficientes de la ecuación de Shomate utilizando los datos de $C_p$ de la tabla de JANAF. https://janaf.nist.gov/tables/C-067.txt en el intervalo de temperatura 0-1200 K<br>\n",
    "<ul>\n",
    "<li>A partir de estos datos calcule los valores de $\\Delta H$ y $\\Delta S$ realizando las integrales correspondientes en el intervalo de temperatura 298-1200 K. Presente los gráficos correspondientes.<br>\n",
    "<li>Calcule $\\Delta G$ en el intervalo T=298-1200 K y haga el gráfico correspondiente.<br><br>\n",
    "</ul>\n",
    "    <b>NOTA:</b>El prgrama debe leer los datos directamente del enlace proporcionado<bR><br>\n",
    "<li>Calcule la constante de equilibrio para el sistema:<br><br>\n",
    "        $NO_{(g)}+ \\frac{1}{2} O_{2(g)} \\rightleftharpoons NO_{2(g)}$<br><br>\n",
    "        a 298 K y p=1 bar\n",
    "    <ul>\n",
    "    <li>Debe presentar en forma gráfica y analítica la determinación del punto de equilibrio $\\xi_{eq}$<br><br>\n",
    "    \n",
    "    </ul>\n",
    "<li>El DNA es una secuencia de nucleótidos de las bases nitrogenadas A,G,C,T<br>\n",
    "    <ul>\n",
    "        <li>Diseñe una función que genere una cadena o secuencia aleatoria de 1000 bases nitrogenadas.<br>\n",
    "        <li>A partir de esta secuencia determine el número de bases de cada clase y contruya un histograma que represente dichos datos\n",
    "    </ul>      \n",
    "        \n",
    "<ol>"
   ]
  },
  {
   "cell_type": "markdown",
   "metadata": {},
   "source": [
    "Suba su parcial a su cuenta de <b>github</b> y envíe el enlace correspondiente a través de la Plataforma de Classroom del Curso. Asegúrese que el enlace enviado se puede acceder desde el Classroom.<br>\n",
    "<b>FECHA DE ENTREGA:</b> 9 de diciembre 24:00 h. <b>NO SE ACEPTARÁN TRABAJOS FUERA DE ESTE TERMINO</b>. Puede consultar o utilizar como referencia cualquier ejemplo o técnica encontrada en la Web. Sea original en su trabajo. Cada paso debe ser comentado utilizando el simbolo de numeral # para dar mayor claridad a sus respuestas."
   ]
  },
  {
   "cell_type": "code",
   "execution_count": null,
   "metadata": {},
   "outputs": [],
   "source": []
  }
 ],
 "metadata": {
  "kernelspec": {
   "display_name": "Python 3",
   "language": "python",
   "name": "python3"
  },
  "language_info": {
   "codemirror_mode": {
    "name": "ipython",
    "version": 3
   },
   "file_extension": ".py",
   "mimetype": "text/x-python",
   "name": "python",
   "nbconvert_exporter": "python",
   "pygments_lexer": "ipython3",
   "version": "3.6.5"
  }
 },
 "nbformat": 4,
 "nbformat_minor": 2
}
